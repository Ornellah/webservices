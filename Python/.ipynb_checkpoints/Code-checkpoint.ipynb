{
 "cells": [
  {
   "cell_type": "code",
   "execution_count": 439,
   "id": "fe7f36f6-fed7-426c-b2a5-8108fb94f358",
   "metadata": {},
   "outputs": [],
   "source": [
    "import sqlite3"
   ]
  },
  {
   "cell_type": "code",
   "execution_count": 440,
   "id": "6fc376b9-029f-40e3-8a00-ecab38bf64e4",
   "metadata": {},
   "outputs": [],
   "source": [
    "conn = sqlite3.connect('../db.sqlite3', timeout=10)"
   ]
  },
  {
   "cell_type": "code",
   "execution_count": 441,
   "id": "fdb1dfbf-8490-4ddf-b718-00fe4b5fafdb",
   "metadata": {},
   "outputs": [],
   "source": [
    "import pickle\n",
    "import pandas as pd"
   ]
  },
  {
   "cell_type": "code",
   "execution_count": 442,
   "id": "d253632c-06b9-4c84-816c-0fa38b93755d",
   "metadata": {},
   "outputs": [
    {
     "name": "stderr",
     "output_type": "stream",
     "text": [
      "/opt/anaconda3/envs/pathologia/lib/python3.9/site-packages/sklearn/base.py:329: UserWarning: Trying to unpickle estimator StandardScaler from version 0.24.1 when using version 1.0.2. This might lead to breaking code or invalid results. Use at your own risk. For more info please refer to:\n",
      "https://scikit-learn.org/stable/modules/model_persistence.html#security-maintainability-limitations\n",
      "  warnings.warn(\n",
      "/opt/anaconda3/envs/pathologia/lib/python3.9/site-packages/sklearn/base.py:329: UserWarning: Trying to unpickle estimator LabelBinarizer from version 0.24.1 when using version 1.0.2. This might lead to breaking code or invalid results. Use at your own risk. For more info please refer to:\n",
      "https://scikit-learn.org/stable/modules/model_persistence.html#security-maintainability-limitations\n",
      "  warnings.warn(\n",
      "/opt/anaconda3/envs/pathologia/lib/python3.9/site-packages/sklearn/base.py:329: UserWarning: Trying to unpickle estimator MLPClassifier from version 0.24.1 when using version 1.0.2. This might lead to breaking code or invalid results. Use at your own risk. For more info please refer to:\n",
      "https://scikit-learn.org/stable/modules/model_persistence.html#security-maintainability-limitations\n",
      "  warnings.warn(\n",
      "/opt/anaconda3/envs/pathologia/lib/python3.9/site-packages/sklearn/base.py:329: UserWarning: Trying to unpickle estimator Pipeline from version 0.24.1 when using version 1.0.2. This might lead to breaking code or invalid results. Use at your own risk. For more info please refer to:\n",
      "https://scikit-learn.org/stable/modules/model_persistence.html#security-maintainability-limitations\n",
      "  warnings.warn(\n"
     ]
    }
   ],
   "source": [
    "P = pickle.load(open('./model_breast_cancer.pkl', 'rb'))"
   ]
  },
  {
   "cell_type": "code",
   "execution_count": 443,
   "id": "d17c0d9f-725d-496f-b52b-f168a5d0d55a",
   "metadata": {},
   "outputs": [],
   "source": [
    "data = pd.read_csv('breast_cancer_test.csv', sep=';')"
   ]
  },
  {
   "cell_type": "code",
   "execution_count": 444,
   "id": "9ef3ba16-4891-4068-bcc5-d4503896401b",
   "metadata": {},
   "outputs": [],
   "source": [
    "X = data.iloc[:, 1:].values\n",
    "dataArray = data.iloc[:, :].values\n",
    "X_ID = data.iloc[:, 0].values"
   ]
  },
  {
   "cell_type": "code",
   "execution_count": 445,
   "id": "b423ff48-d032-402b-a503-3e3c6a4bd4e8",
   "metadata": {},
   "outputs": [
    {
     "data": {
      "text/plain": [
       "array([['GSM1877923', 0.635491248, 4.47452174, 8.227653343, 6.018167244,\n",
       "        9.157916748]], dtype=object)"
      ]
     },
     "metadata": {},
     "output_type": "display_data"
    },
    {
     "data": {
      "text/plain": [
       "array([[0.63549125, 4.47452174, 8.22765334, 6.01816724, 9.15791675]])"
      ]
     },
     "metadata": {},
     "output_type": "display_data"
    },
    {
     "data": {
      "text/plain": [
       "array(['GSM1877923'], dtype=object)"
      ]
     },
     "metadata": {},
     "output_type": "display_data"
    }
   ],
   "source": [
    "display(dataArray)\n",
    "display(X)\n",
    "display(X_ID)"
   ]
  },
  {
   "cell_type": "code",
   "execution_count": 446,
   "id": "440dadcd-4ef3-4a17-801a-e8fae46646be",
   "metadata": {},
   "outputs": [],
   "source": [
    "X_predict = P.predict(X)"
   ]
  },
  {
   "cell_type": "code",
   "execution_count": 447,
   "id": "bd6e880d-da86-47dd-8b57-bde152cbf194",
   "metadata": {},
   "outputs": [
    {
     "data": {
      "text/plain": [
       "array([0])"
      ]
     },
     "execution_count": 447,
     "metadata": {},
     "output_type": "execute_result"
    }
   ],
   "source": [
    "X_predict"
   ]
  },
  {
   "cell_type": "code",
   "execution_count": 448,
   "id": "6be9c1ed-9024-46dd-a18d-5e7c281c244c",
   "metadata": {},
   "outputs": [
    {
     "data": {
      "text/plain": [
       "'GSM1877923'"
      ]
     },
     "execution_count": 448,
     "metadata": {},
     "output_type": "execute_result"
    }
   ],
   "source": [
    "dataArray[0][0]"
   ]
  },
  {
   "cell_type": "code",
   "execution_count": 449,
   "id": "f75b3607-01a8-41d2-bc68-fff643e7428f",
   "metadata": {},
   "outputs": [
    {
     "data": {
      "text/plain": [
       "0"
      ]
     },
     "execution_count": 449,
     "metadata": {},
     "output_type": "execute_result"
    }
   ],
   "source": [
    "X_predict[0]"
   ]
  },
  {
   "cell_type": "code",
   "execution_count": 450,
   "id": "b666aaa2-50c1-4d3e-845f-689c2a9a648d",
   "metadata": {},
   "outputs": [
    {
     "data": {
      "text/plain": [
       "<sqlite3.Cursor at 0x7fa813afc030>"
      ]
     },
     "execution_count": 450,
     "metadata": {},
     "output_type": "execute_result"
    }
   ],
   "source": [
    "conn.execute(\"INSERT INTO webapp_result (Id_Patient, Prediction) VALUES ('\"+dataArray[0][0]+\"',\"+str(X_predict[0])+\")\")"
   ]
  },
  {
   "cell_type": "code",
   "execution_count": 451,
   "id": "cd9b27fc-c2b2-413e-a154-c25823389714",
   "metadata": {},
   "outputs": [],
   "source": [
    "conn.commit()\n",
    "conn.close()"
   ]
  }
 ],
 "metadata": {
  "kernelspec": {
   "display_name": "Python 3 (ipykernel)",
   "language": "python",
   "name": "python3"
  },
  "language_info": {
   "codemirror_mode": {
    "name": "ipython",
    "version": 3
   },
   "file_extension": ".py",
   "mimetype": "text/x-python",
   "name": "python",
   "nbconvert_exporter": "python",
   "pygments_lexer": "ipython3",
   "version": "3.9.7"
  }
 },
 "nbformat": 4,
 "nbformat_minor": 5
}
